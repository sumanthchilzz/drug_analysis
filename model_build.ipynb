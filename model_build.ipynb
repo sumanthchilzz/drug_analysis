{
  "nbformat": 4,
  "nbformat_minor": 0,
  "metadata": {
    "kernelspec": {
      "display_name": "Python 3",
      "language": "python",
      "name": "python3"
    },
    "language_info": {
      "codemirror_mode": {
        "name": "ipython",
        "version": 3
      },
      "file_extension": ".py",
      "mimetype": "text/x-python",
      "name": "python",
      "nbconvert_exporter": "python",
      "pygments_lexer": "ipython3",
      "version": "3.8.5"
    },
    "colab": {
      "name": "model build.ipynb",
      "provenance": [],
      "collapsed_sections": []
    }
  },
  "cells": [
    {
      "cell_type": "code",
      "metadata": {
        "colab": {
          "base_uri": "https://localhost:8080/"
        },
        "id": "3UyZ15-cFxG8",
        "outputId": "506b9a6e-fe5b-44e6-c5c7-2c236d082434"
      },
      "source": [
        "from google.colab import drive\n",
        "drive.mount('/content/drive')"
      ],
      "execution_count": null,
      "outputs": [
        {
          "output_type": "stream",
          "text": [
            "Drive already mounted at /content/drive; to attempt to forcibly remount, call drive.mount(\"/content/drive\", force_remount=True).\n"
          ],
          "name": "stdout"
        }
      ]
    },
    {
      "cell_type": "code",
      "metadata": {
        "id": "LHdWkL1ebH6s"
      },
      "source": [
        "import pandas as pd\n",
        "import numpy as np\n",
        "from sklearn import preprocessing \n",
        "import matplotlib.pyplot as plt\n",
        "from sklearn.model_selection import train_test_split\n",
        "from sklearn.preprocessing import MinMaxScaler\n",
        "from sklearn.decomposition import PCA\n",
        "from sklearn.pipeline import Pipeline\n",
        "from sklearn.linear_model import LogisticRegression\n",
        "from sklearn.tree import DecisionTreeClassifier\n",
        "from sklearn.ensemble import RandomForestClassifier\n",
        "from sklearn.neighbors import KNeighborsClassifier"
      ],
      "execution_count": null,
      "outputs": []
    },
    {
      "cell_type": "code",
      "metadata": {
        "id": "QT740nn7F2vK"
      },
      "source": [
        "df=pd.read_csv('/content/drive/MyDrive/project/pro.csv')"
      ],
      "execution_count": null,
      "outputs": []
    },
    {
      "cell_type": "code",
      "metadata": {
        "id": "LimXJZggaK9N"
      },
      "source": [
        ""
      ],
      "execution_count": null,
      "outputs": []
    },
    {
      "cell_type": "code",
      "metadata": {
        "id": "QWVzjzbRFL4O"
      },
      "source": [
        "start_mem = df.memory_usage().sum() / 1024**2\n",
        "def reduce_mem_usage(df):    \n",
        "    for col in df.columns:\n",
        "        col_type = df[col].dtype\n",
        "        \n",
        "        if col_type != object:\n",
        "            c_min = df[col].min()\n",
        "            c_max = df[col].max()\n",
        "            if str(col_type)[:3] == 'int':\n",
        "                if c_min > np.iinfo(np.int8).min and c_max < np.iinfo(np.int8).max:\n",
        "                    df[col] = df[col].astype(np.int8)\n",
        "                elif c_min > np.iinfo(np.int16).min and c_max < np.iinfo(np.int16).max:\n",
        "                    df[col] = df[col].astype(np.int16)\n",
        "                elif c_min > np.iinfo(np.int32).min and c_max < np.iinfo(np.int32).max:\n",
        "                    df[col] = df[col].astype(np.int32)\n",
        "                elif c_min > np.iinfo(np.int64).min and c_max < np.iinfo(np.int64).max:\n",
        "                    df[col] = df[col].astype(np.int64)\n",
        "            else:\n",
        "                #if c_min > np.finfo(np.float16).min and c_max < np.finfo(np.float16).max:\n",
        "                #    df[col] = df[col].astype(np.float16)\n",
        "                #el\n",
        "                if c_min > np.finfo(np.float32).min and c_max < np.finfo(np.float32).max:\n",
        "                    df[col] = df[col].astype(np.float32)\n",
        "                else:\n",
        "                    df[col] = df[col].astype(np.float64)\n",
        "        #else:\n",
        "            #df[col] = df[col].astype('category')\n",
        "\n",
        "    end_mem = df.memory_usage().sum() / 1024**2\n",
        "    print('Memory usage of dataframe is {:.2f} MB --> {:.2f} MB (Decreased by {:.1f}%)'.format(\n",
        "        start_mem, end_mem, 100 * (start_mem - end_mem) / start_mem))\n",
        "    return df"
      ],
      "execution_count": null,
      "outputs": []
    },
    {
      "cell_type": "code",
      "metadata": {
        "colab": {
          "base_uri": "https://localhost:8080/"
        },
        "id": "HfiJQnjiFL4S",
        "outputId": "73f7ff1e-5ea2-432a-8c34-424e2cc7265f"
      },
      "source": [
        "df=reduce_mem_usage(df)"
      ],
      "execution_count": null,
      "outputs": [
        {
          "output_type": "stream",
          "text": [
            "Memory usage of dataframe is 34.20 MB --> 22.71 MB (Decreased by 33.6%)\n"
          ],
          "name": "stdout"
        }
      ]
    },
    {
      "cell_type": "code",
      "metadata": {
        "id": "5O9dAHDPaFFJ"
      },
      "source": [
        "df=df.dropna()"
      ],
      "execution_count": null,
      "outputs": []
    },
    {
      "cell_type": "code",
      "metadata": {
        "id": "XCRUOQsRafaR"
      },
      "source": [
        "data=df.copy()"
      ],
      "execution_count": null,
      "outputs": []
    },
    {
      "cell_type": "code",
      "metadata": {
        "id": "KXA9ypPTaak8"
      },
      "source": [
        "x2=data['Drug'].unique()\n",
        "x3=data['Condition'].unique()\n",
        "x4=data['Age'].unique()\n",
        "x5=data['Sex'].unique()\n",
        "drug_enc = dict(enumerate(x2.flatten(), 1))\n",
        "condition_enc = dict(enumerate(x3.flatten(), 1))\n",
        "age_enc=dict(enumerate(x4.flatten(), 1))\n",
        "sex_enc=dict(enumerate(x5.flatten(), 1))\n",
        "def age_encode(x):\n",
        "    for j in age_enc:\n",
        "        if x==age_enc[j]:\n",
        "            return j\n",
        "def condition_encode(x):\n",
        "    for k in condition_enc:\n",
        "        if x==condition_enc[k]:\n",
        "            return k\n",
        "def drug_encode(x):\n",
        "    for l in drug_enc:\n",
        "        if x==drug_enc[l]:\n",
        "            return l\n",
        "def sex_encode(x):\n",
        "    for m in sex_enc:\n",
        "        if x==sex_enc[m]:\n",
        "            return m\n",
        "data['Age']=data['Age'].apply(lambda x:age_encode(x)).astype(str)\n",
        "data['Condition']=data['Condition'].apply(lambda x:condition_encode(x)).astype(str)\n",
        "data['Drug']=data['Drug'].apply(lambda x:drug_encode(x)).astype(str)\n",
        "data['Sex']=data['Sex'].apply(lambda x:sex_encode(x)).astype(str)"
      ],
      "execution_count": null,
      "outputs": []
    },
    {
      "cell_type": "code",
      "metadata": {
        "id": "lCU0sjaGawXw"
      },
      "source": [
        "X=data.drop(columns=['Date','Reviews','sentiment','polarity','Unnamed: 0','DrugId','EaseofUse','Satisfaction','Sides','UsefulCount','Effectiveness','emotion'])"
      ],
      "execution_count": null,
      "outputs": []
    },
    {
      "cell_type": "code",
      "metadata": {
        "id": "E7qXdxm5avSJ"
      },
      "source": [
        "Y = data['Sides']"
      ],
      "execution_count": null,
      "outputs": []
    },
    {
      "cell_type": "code",
      "metadata": {
        "id": "yhbp-ucueepi"
      },
      "source": [
        ""
      ],
      "execution_count": null,
      "outputs": []
    },
    {
      "cell_type": "code",
      "metadata": {
        "colab": {
          "base_uri": "https://localhost:8080/",
          "height": 419
        },
        "id": "K75a7NnxcSk-",
        "outputId": "243ee8af-c692-4de5-b4fc-ea1c9e17f75a"
      },
      "source": [
        "X"
      ],
      "execution_count": null,
      "outputs": [
        {
          "output_type": "execute_result",
          "data": {
            "text/html": [
              "<div>\n",
              "<style scoped>\n",
              "    .dataframe tbody tr th:only-of-type {\n",
              "        vertical-align: middle;\n",
              "    }\n",
              "\n",
              "    .dataframe tbody tr th {\n",
              "        vertical-align: top;\n",
              "    }\n",
              "\n",
              "    .dataframe thead th {\n",
              "        text-align: right;\n",
              "    }\n",
              "</style>\n",
              "<table border=\"1\" class=\"dataframe\">\n",
              "  <thead>\n",
              "    <tr style=\"text-align: right;\">\n",
              "      <th></th>\n",
              "      <th>Age</th>\n",
              "      <th>Condition</th>\n",
              "      <th>Drug</th>\n",
              "      <th>Sex</th>\n",
              "    </tr>\n",
              "  </thead>\n",
              "  <tbody>\n",
              "    <tr>\n",
              "      <th>0</th>\n",
              "      <td>1</td>\n",
              "      <td>1</td>\n",
              "      <td>1</td>\n",
              "      <td>1</td>\n",
              "    </tr>\n",
              "    <tr>\n",
              "      <th>1</th>\n",
              "      <td>2</td>\n",
              "      <td>2</td>\n",
              "      <td>1</td>\n",
              "      <td>2</td>\n",
              "    </tr>\n",
              "    <tr>\n",
              "      <th>2</th>\n",
              "      <td>2</td>\n",
              "      <td>3</td>\n",
              "      <td>2</td>\n",
              "      <td>2</td>\n",
              "    </tr>\n",
              "    <tr>\n",
              "      <th>3</th>\n",
              "      <td>3</td>\n",
              "      <td>4</td>\n",
              "      <td>2</td>\n",
              "      <td>2</td>\n",
              "    </tr>\n",
              "    <tr>\n",
              "      <th>4</th>\n",
              "      <td>4</td>\n",
              "      <td>1</td>\n",
              "      <td>3</td>\n",
              "      <td>1</td>\n",
              "    </tr>\n",
              "    <tr>\n",
              "      <th>...</th>\n",
              "      <td>...</td>\n",
              "      <td>...</td>\n",
              "      <td>...</td>\n",
              "      <td>...</td>\n",
              "    </tr>\n",
              "    <tr>\n",
              "      <th>280122</th>\n",
              "      <td>2</td>\n",
              "      <td>393</td>\n",
              "      <td>5011</td>\n",
              "      <td>2</td>\n",
              "    </tr>\n",
              "    <tr>\n",
              "      <th>280123</th>\n",
              "      <td>4</td>\n",
              "      <td>393</td>\n",
              "      <td>5011</td>\n",
              "      <td>2</td>\n",
              "    </tr>\n",
              "    <tr>\n",
              "      <th>280124</th>\n",
              "      <td>2</td>\n",
              "      <td>393</td>\n",
              "      <td>5011</td>\n",
              "      <td>2</td>\n",
              "    </tr>\n",
              "    <tr>\n",
              "      <th>280125</th>\n",
              "      <td>4</td>\n",
              "      <td>393</td>\n",
              "      <td>5011</td>\n",
              "      <td>1</td>\n",
              "    </tr>\n",
              "    <tr>\n",
              "      <th>280126</th>\n",
              "      <td>3</td>\n",
              "      <td>393</td>\n",
              "      <td>5011</td>\n",
              "      <td>2</td>\n",
              "    </tr>\n",
              "  </tbody>\n",
              "</table>\n",
              "<p>279756 rows × 4 columns</p>\n",
              "</div>"
            ],
            "text/plain": [
              "       Age Condition  Drug Sex\n",
              "0        1         1     1   1\n",
              "1        2         2     1   2\n",
              "2        2         3     2   2\n",
              "3        3         4     2   2\n",
              "4        4         1     3   1\n",
              "...     ..       ...   ...  ..\n",
              "280122   2       393  5011   2\n",
              "280123   4       393  5011   2\n",
              "280124   2       393  5011   2\n",
              "280125   4       393  5011   1\n",
              "280126   3       393  5011   2\n",
              "\n",
              "[279756 rows x 4 columns]"
            ]
          },
          "metadata": {
            "tags": []
          },
          "execution_count": 11
        }
      ]
    },
    {
      "cell_type": "code",
      "metadata": {
        "colab": {
          "base_uri": "https://localhost:8080/"
        },
        "id": "NlsY3LklcU0X",
        "outputId": "03a02ac1-60e0-4c6b-cab0-4c0e6032be23"
      },
      "source": [
        "X_train, X_test, y_train, y_test = train_test_split(X,Y, test_size = 0.3,random_state=1000)\n",
        "DecisionTreePipeline=Pipeline([('decisiontree_classifier',DecisionTreeClassifier(criterion='entropy', max_depth=50, min_samples_split=75))])\n",
        "knnPipeline=Pipeline([('knn_classifier',KNeighborsClassifier(n_neighbors=2))])\n",
        "mypipeline=[DecisionTreePipeline,knnPipeline]\n",
        "accuracy=0.0\n",
        "classifier=0\n",
        "pipeline=\" \"\n",
        "PipeLineDict={0:'DecisionTree',1:'KNeighbors'}\n",
        "#fit the pipeline\n",
        "for mypipe in mypipeline:\n",
        "    mypipe.fit(X_train,y_train)\n",
        "for i,model in enumerate(mypipeline):\n",
        "    print(\"{} TestAccuracy:{}\".format(PipeLineDict[i],model.score(X_test,y_test)))\n",
        "for i,model in enumerate(mypipeline):\n",
        "    if model.score(X_test,y_test)>accuracy:\n",
        "        accuracy=model.score(X_test,y_test)\n",
        "        pipeline=model\n",
        "        classifier=i\n",
        "print('classifier with the best accuracy:{}'.format(PipeLineDict[classifier]))\n",
        "import pickle\n",
        "Pkl_Filename = \"pipe_model.pkl\"  \n",
        "with open(Pkl_Filename, 'wb') as file:  \n",
        "    pickle.dump(mypipe, file)\n",
        "with open(Pkl_Filename, 'rb') as file:  \n",
        "    pipe_model = pickle.load(file)\n",
        "print(pipe_model)"
      ],
      "execution_count": null,
      "outputs": [
        {
          "output_type": "stream",
          "text": [
            "DecisionTree TestAccuracy:0.9401622838895707\n",
            "KNeighbors TestAccuracy:0.9605013881110965\n",
            "classifier with the best accuracy:KNeighbors\n",
            "Pipeline(memory=None,\n",
            "         steps=[('knn_classifier',\n",
            "                 KNeighborsClassifier(algorithm='auto', leaf_size=30,\n",
            "                                      metric='minkowski', metric_params=None,\n",
            "                                      n_jobs=None, n_neighbors=2, p=2,\n",
            "                                      weights='uniform'))],\n",
            "         verbose=False)\n"
          ],
          "name": "stdout"
        }
      ]
    },
    {
      "cell_type": "markdown",
      "metadata": {
        "id": "4ENPt9PCQSWu"
      },
      "source": [
        ""
      ]
    },
    {
      "cell_type": "code",
      "metadata": {
        "id": "NaSUac4-_CkJ",
        "colab": {
          "base_uri": "https://localhost:8080/"
        },
        "outputId": "9f89aaab-d91f-4391-86cf-665704e90f19"
      },
      "source": [
        "\n",
        "import streamlit as st\n",
        "import pickle\n",
        "import pandas as pd\n",
        "data=pd.read_csv('/content/drive/MyDrive/project/pro.csv')\n",
        "data=data.dropna()\n",
        "x2=data['Drug'].unique()\n",
        "x3=data['Condition'].unique()\n",
        "x4=data['Age'].unique()\n",
        "x5=data['Sex'].unique()\n",
        "drug_enc = dict(enumerate(x2.flatten(), 1))\n",
        "condition_enc = dict(enumerate(x3.flatten(), 1))\n",
        "age_enc=dict(enumerate(x4.flatten(), 1))\n",
        "sex_enc=dict(enumerate(x5.flatten(), 1))\n",
        "def age_encode(x):\n",
        "    for j in age_enc:\n",
        "        if x==age_enc[j]:\n",
        "            return j\n",
        "def condition_encode(x):\n",
        "    for k in condition_enc:\n",
        "        if x==condition_enc[k]:\n",
        "            return k\n",
        "def drug_encode(x):\n",
        "    for l in drug_enc:\n",
        "        if x==drug_enc[l]:\n",
        "            return l\n",
        "def sex_encode(x):\n",
        "    for m in sex_enc:\n",
        "        if x==sex_enc[m]:\n",
        "            return m\n",
        "data['Age']=data['Age'].apply(lambda x:age_encode(x)).astype(str)\n",
        "data['Condition']=data['Condition'].apply(lambda x:condition_encode(x)).astype(str)\n",
        "data['Drug']=data['Drug'].apply(lambda x:drug_encode(x)).astype(str)\n",
        "data['Sex']=data['Sex'].apply(lambda x:sex_encode(x)).astype(str)\n",
        "Pkl_Filename = \"pipe_model.pkl\" \n",
        "with open(Pkl_Filename, 'rb') as file:  \n",
        "    pipe_model = pickle.load(file)\n",
        "st.title(' Drug Side effect Prediction')\n",
        "\n",
        "st.sidebar.header('User Input Parameters')\n",
        "\n",
        "@st.cache\n",
        "def prediction(Age,Condition,Drug,Sex):\n",
        "    age=age_encode(Age)\n",
        "    sex=sex_encode(Sex)\n",
        "    condition=condition_encode(Condition)\n",
        "    drug=drug_encode(Drug)\n",
        "    predicted=pipe_model.predict([[age,condition,drug,sex]])\n",
        "    return predicted\n",
        "def main():       \n",
        "    # following lines create boxes in which user can enter data required to make prediction \n",
        "    Age = st.sidebar.text_input('Enter your age category')\n",
        "    Sex = st.sidebar.radio('Gender',(\"Male\",\"Female\"))  \n",
        "    Condition = st.sidebar.text_input('Enter your condition')  \n",
        "    Drug = st.sidebar.text_input(\"drug_name\")\n",
        "    result =\"\"\n",
        "        \n",
        "    def user_input_features():\n",
        "        data={'Age': Age,'Condition': Condition,\n",
        "              'Drug': Drug,\n",
        "              'Sex' : Sex\n",
        "              }\n",
        "        features = pd.DataFrame(data,index = [1])\n",
        "        return features\n",
        "    \n",
        "    df = user_input_features()\n",
        "    st.subheader('Customer Details')\n",
        "    st.write(df,width=500,height=2000)\n",
        "    if st.button(\"Predict\"):\n",
        "        result = prediction(Age,Condition,Drug,Sex)\n",
        "        st.success('you are likely to undergo{} '.format(result))\n",
        "main()"
      ],
      "execution_count": null,
      "outputs": [
        {
          "output_type": "stream",
          "text": [
            "2021-07-17 07:29:53.742 \n",
            "  \u001b[33m\u001b[1mWarning:\u001b[0m to view this Streamlit app on a browser, run it with the following\n",
            "  command:\n",
            "\n",
            "    streamlit run /usr/local/lib/python3.7/dist-packages/ipykernel_launcher.py [ARGUMENTS]\n"
          ],
          "name": "stderr"
        }
      ]
    },
    {
      "cell_type": "code",
      "metadata": {
        "id": "NvyA68DjdBOW"
      },
      "source": [
        "import streamlit as st\n",
        "import pickle\n",
        "import pandas as pd\n",
        "data=pd.read_csv('/content/drive/MyDrive/project/pro.csv')\n",
        "data=data.dropna()\n",
        "x2=data['Drug'].unique()\n",
        "x3=data['Condition'].unique()\n",
        "x4=data['Age'].unique()\n",
        "x5=data['Sex'].unique()\n",
        "drug_enc = dict(enumerate(x2.flatten(), 1))\n",
        "condition_enc = dict(enumerate(x3.flatten(), 1))\n",
        "age_enc=dict(enumerate(x4.flatten(), 1))"
      ],
      "execution_count": null,
      "outputs": []
    },
    {
      "cell_type": "code",
      "metadata": {
        "id": "qqeFEWD3dB9g"
      },
      "source": [
        "def age_encode(x):\n",
        "    for j in age_enc:\n",
        "        if x==age_enc[j]:\n",
        "            return j"
      ],
      "execution_count": null,
      "outputs": []
    },
    {
      "cell_type": "code",
      "metadata": {
        "colab": {
          "base_uri": "https://localhost:8080/"
        },
        "id": "qL4ahZFpdEDm",
        "outputId": "69596c4d-ed54-4c72-aefc-dbd275b1d42d"
      },
      "source": [
        "age_encode('25-34')"
      ],
      "execution_count": null,
      "outputs": [
        {
          "output_type": "execute_result",
          "data": {
            "text/plain": [
              "2"
            ]
          },
          "metadata": {
            "tags": []
          },
          "execution_count": 36
        }
      ]
    },
    {
      "cell_type": "code",
      "metadata": {
        "colab": {
          "base_uri": "https://localhost:8080/"
        },
        "id": "aaxSYqIUf_Am",
        "outputId": "892fe878-3595-4338-f1f8-8b2e7825f797"
      },
      "source": [
        "age_enc"
      ],
      "execution_count": null,
      "outputs": [
        {
          "output_type": "execute_result",
          "data": {
            "text/plain": [
              "{1: '75 or over',\n",
              " 2: '25-34',\n",
              " 3: '45-54',\n",
              " 4: '55-64',\n",
              " 5: '19-24',\n",
              " 6: '35-44',\n",
              " 7: '13-18',\n",
              " 8: '65-74',\n",
              " 9: '7-12',\n",
              " 10: '0-2',\n",
              " 11: '3-6'}"
            ]
          },
          "metadata": {
            "tags": []
          },
          "execution_count": 38
        }
      ]
    },
    {
      "cell_type": "code",
      "metadata": {
        "colab": {
          "base_uri": "https://localhost:8080/",
          "height": 35
        },
        "id": "iukvUpkZgHEE",
        "outputId": "62a65f41-df25-4126-952f-ab2f7d9bc6a3"
      },
      "source": [
        "age_enc[2]"
      ],
      "execution_count": null,
      "outputs": [
        {
          "output_type": "execute_result",
          "data": {
            "application/vnd.google.colaboratory.intrinsic+json": {
              "type": "string"
            },
            "text/plain": [
              "'25-34'"
            ]
          },
          "metadata": {
            "tags": []
          },
          "execution_count": 40
        }
      ]
    },
    {
      "cell_type": "code",
      "metadata": {
        "id": "ZbDbefQsgSHC"
      },
      "source": [
        ""
      ],
      "execution_count": null,
      "outputs": []
    }
  ]
}